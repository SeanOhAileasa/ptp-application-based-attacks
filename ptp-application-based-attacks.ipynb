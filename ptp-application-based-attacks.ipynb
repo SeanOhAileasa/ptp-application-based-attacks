{
 "cells": [
  {
   "cell_type": "markdown",
   "id": "d4ee9e4b",
   "metadata": {},
   "source": [
    "***\n",
    "< [Home](https://github.com/SeanOhAileasa) | [README](https://github.com/SeanOhAileasa/ptp-application-based-attacks/blob/main/README.md) >\n",
    "\n",
    "## CompTIA PenTest+ - Course Material 2022\n",
    "###### Topic: ``Application-based Attacks``\n",
    "***"
   ]
  },
  {
   "cell_type": "markdown",
   "id": "b82b07fb",
   "metadata": {},
   "source": [
    "Course material for the ``CompTIA PenTest+`` module of the ``ICT Associate Apprenticeship (Cybersecurity)`` programme."
   ]
  },
  {
   "cell_type": "markdown",
   "id": "e7228f57",
   "metadata": {},
   "source": [
    "<a id=\"top\"></a>\n",
    "***\n",
    "## Table of Contents\n",
    "***"
   ]
  },
  {
   "cell_type": "markdown",
   "id": "c2bb5e7b",
   "metadata": {},
   "source": [
    "### [Application-based Attacks](#aa) <br/><br/>\n",
    "<hr width=50%;>"
   ]
  },
  {
   "cell_type": "markdown",
   "id": "e8f44349",
   "metadata": {},
   "source": [
    "### [OWASP Security Risks](#A) <br/><br/>\n",
    "<hr width=50%;>"
   ]
  },
  {
   "cell_type": "markdown",
   "id": "e36d9185",
   "metadata": {},
   "source": [
    "### [Server-side Request Forgery](#B) <br/><br/>\n",
    "<hr width=50%;>"
   ]
  },
  {
   "cell_type": "markdown",
   "id": "758ef51c",
   "metadata": {},
   "source": [
    "### [Business Logic Vulnerabilities](#C) <br/><br/>\n",
    "<hr width=50%;>"
   ]
  },
  {
   "cell_type": "markdown",
   "id": "e55dd6ae",
   "metadata": {},
   "source": [
    "### [Structured Query Language Injection Attacks](#D) <br/><br/>\n",
    "<hr width=50%;>"
   ]
  },
  {
   "cell_type": "markdown",
   "id": "16e9636f",
   "metadata": {},
   "source": [
    "### [Command Injection Attacks](#E) <br/><br/>\n",
    "<hr width=50%;>"
   ]
  },
  {
   "cell_type": "markdown",
   "id": "f327ecca",
   "metadata": {},
   "source": [
    "### [Cross-site Scripting Attacks](#F) <br/><br/>\n",
    "<hr width=50%;>"
   ]
  },
  {
   "cell_type": "markdown",
   "id": "42ea4781",
   "metadata": {},
   "source": [
    "### [Lightweight Directory Access Protocol Injection](#G) <br/><br/>\n",
    "<hr width=50%;>"
   ]
  },
  {
   "cell_type": "markdown",
   "id": "cf78acdc",
   "metadata": {},
   "source": [
    "### [Common Application Vulnerabilities](#H) <br/><br/>\n",
    "<hr width=50%;>"
   ]
  },
  {
   "cell_type": "markdown",
   "id": "29e3036c",
   "metadata": {},
   "source": [
    "### [Application-based Session Attacks](#I) <br/><br/>\n",
    "<hr width=50%;>"
   ]
  },
  {
   "cell_type": "markdown",
   "id": "72f1c79c",
   "metadata": {},
   "source": [
    "### [Application Programming Interface Attacks](#J) <br/><br/>\n",
    "<hr width=50%;>"
   ]
  },
  {
   "cell_type": "markdown",
   "id": "9740d93f",
   "metadata": {},
   "source": [
    "### [Directory Traversal Attacks](#K) <br/><br/>\n",
    "<hr width=50%;>"
   ]
  },
  {
   "cell_type": "markdown",
   "id": "e4abaf41",
   "metadata": {},
   "source": [
    "### [Application-based Attack Tools](#L) <br/><br/>\n",
    "<hr width=50%;>"
   ]
  },
  {
   "cell_type": "markdown",
   "id": "bcef5e57",
   "metadata": {},
   "source": [
    "### [Application-based Attack Resources](#M) <br/><br/>\n",
    "<hr width=50%;>"
   ]
  },
  {
   "cell_type": "markdown",
   "id": "f88432d4",
   "metadata": {},
   "source": [
    "### [Course Summary](#N) <br/><br/>\n",
    "<hr width=50%;>"
   ]
  },
  {
   "cell_type": "markdown",
   "id": "bf2b95e2",
   "metadata": {},
   "source": [
    "***\n",
    "## END"
   ]
  },
  {
   "cell_type": "markdown",
   "id": "34aa6eb5",
   "metadata": {},
   "source": [
    "< [Table of Contents](#top) | [References](#references) >\n",
    "<a id=\"aa\"></a>\n",
    "***\n",
    "### Application-based Attacks\n",
    "***"
   ]
  },
  {
   "cell_type": "markdown",
   "id": "173e78b5",
   "metadata": {},
   "source": []
  },
  {
   "cell_type": "markdown",
   "id": "79ecc5b8",
   "metadata": {},
   "source": [
    "< [Table of Contents](#top) | [References](#references) >\n",
    "<a id=\"A\"></a>\n",
    "***\n",
    "### OWASP Security Risks\n",
    "*** "
   ]
  },
  {
   "cell_type": "markdown",
   "id": "4b5da52e",
   "metadata": {},
   "source": []
  },
  {
   "cell_type": "markdown",
   "id": "23f36635",
   "metadata": {},
   "source": [
    "< [Table of Contents](#top) | [References](#references) >\n",
    "<a id=\"B\"></a>\n",
    "***\n",
    "### Server-side Request Forgery\n",
    "*** "
   ]
  },
  {
   "cell_type": "markdown",
   "id": "ffd24321",
   "metadata": {},
   "source": []
  },
  {
   "cell_type": "markdown",
   "id": "06370332",
   "metadata": {},
   "source": [
    "< [Table of Contents](#top) | [References](#references) >\n",
    "<a id=\"C\"></a>\n",
    "***\n",
    "### Business Logic Vulnerabilities\n",
    "*** "
   ]
  },
  {
   "cell_type": "markdown",
   "id": "7f6c1fd5",
   "metadata": {},
   "source": []
  },
  {
   "cell_type": "markdown",
   "id": "01011827",
   "metadata": {},
   "source": [
    "< [Table of Contents](#top) | [References](#references) >\n",
    "<a id=\"D\"></a>\n",
    "***\n",
    "### Structured Query Language Injection Attacks\n",
    "*** "
   ]
  },
  {
   "cell_type": "markdown",
   "id": "9c1f6a70",
   "metadata": {},
   "source": []
  },
  {
   "cell_type": "markdown",
   "id": "9a6dd9d6",
   "metadata": {},
   "source": [
    "< [Table of Contents](#top) | [References](#references) >\n",
    "<a id=\"E\"></a>\n",
    "***\n",
    "### Command Injection Attacks\n",
    "*** "
   ]
  },
  {
   "cell_type": "markdown",
   "id": "c5d68a5a",
   "metadata": {},
   "source": []
  },
  {
   "cell_type": "markdown",
   "id": "05926179",
   "metadata": {},
   "source": [
    "< [Table of Contents](#top) | [References](#references) >\n",
    "<a id=\"F\"></a>\n",
    "***\n",
    "### Cross-site Scripting Attacks\n",
    "*** "
   ]
  },
  {
   "cell_type": "markdown",
   "id": "abe459ca",
   "metadata": {},
   "source": [
    "< [Table of Contents](#top) | [References](#references) >\n",
    "<a id=\"G\"></a>\n",
    "***\n",
    "### Lightweight Directory Access Protocol Injection\n",
    "*** "
   ]
  },
  {
   "cell_type": "markdown",
   "id": "6dc8eec8",
   "metadata": {},
   "source": []
  },
  {
   "cell_type": "markdown",
   "id": "e924de2a",
   "metadata": {},
   "source": [
    "< [Table of Contents](#top) | [References](#references) >\n",
    "<a id=\"H\"></a>\n",
    "***\n",
    "### Common Application Vulnerabilities\n",
    "*** "
   ]
  },
  {
   "cell_type": "markdown",
   "id": "1aba14dc",
   "metadata": {},
   "source": []
  },
  {
   "cell_type": "markdown",
   "id": "b1d7c1c8",
   "metadata": {},
   "source": [
    "< [Table of Contents](#top) | [References](#references) >\n",
    "<a id=\"I\"></a>\n",
    "***\n",
    "### Application-based Session Attacks\n",
    "*** "
   ]
  },
  {
   "cell_type": "markdown",
   "id": "1c19bfb3",
   "metadata": {},
   "source": []
  },
  {
   "cell_type": "markdown",
   "id": "ab1988de",
   "metadata": {},
   "source": [
    "< [Table of Contents](#top) | [References](#references) >\n",
    "<a id=\"J\"></a>\n",
    "***\n",
    "### Application Programming Interface Attacks\n",
    "*** "
   ]
  },
  {
   "cell_type": "markdown",
   "id": "90d60d73",
   "metadata": {},
   "source": []
  },
  {
   "cell_type": "markdown",
   "id": "ceae340f",
   "metadata": {},
   "source": [
    "< [Table of Contents](#top) | [References](#references) >\n",
    "<a id=\"K\"></a>\n",
    "***\n",
    "### Directory Traversal Attacks\n",
    "*** "
   ]
  },
  {
   "cell_type": "markdown",
   "id": "f9727301",
   "metadata": {},
   "source": []
  },
  {
   "cell_type": "markdown",
   "id": "88b2dd5b",
   "metadata": {},
   "source": [
    "< [Table of Contents](#top) | [References](#references) >\n",
    "<a id=\"L\"></a>\n",
    "***\n",
    "### Application-based Attack Tools\n",
    "*** "
   ]
  },
  {
   "cell_type": "markdown",
   "id": "c8858ccd",
   "metadata": {},
   "source": []
  },
  {
   "cell_type": "markdown",
   "id": "0a534581",
   "metadata": {},
   "source": [
    "< [Table of Contents](#top) | [References](#references) >\n",
    "<a id=\"M\"></a>\n",
    "***\n",
    "### Application-based Attack Resources\n",
    "*** "
   ]
  },
  {
   "cell_type": "markdown",
   "id": "9d56121b",
   "metadata": {},
   "source": []
  },
  {
   "cell_type": "markdown",
   "id": "7dcb9d2b",
   "metadata": {},
   "source": [
    "< [Table of Contents](#top) | [References](#references) >\n",
    "<a id=\"N\"></a>\n",
    "***\n",
    "### Course Summary\n",
    "*** "
   ]
  },
  {
   "cell_type": "markdown",
   "id": "0c558500",
   "metadata": {},
   "source": []
  },
  {
   "cell_type": "markdown",
   "id": "2cc20932",
   "metadata": {},
   "source": [
    "***\n",
    "## END"
   ]
  },
  {
   "cell_type": "markdown",
   "id": "e0e42d51",
   "metadata": {},
   "source": [
    "< [Table of Contents](#top) >\n",
    "<a id=\"references\"></a>\n",
    "***\n",
    "## References\n",
    "***"
   ]
  },
  {
   "cell_type": "markdown",
   "id": "757bf6de",
   "metadata": {},
   "source": [
    "&nbsp;&nbsp;&nbsp;&nbsp;&nbsp;&nbsp;&nbsp;&nbsp;&nbsp;skillsoft, \"Application-based Attacks,\" [skillsoft.com](https://web.archive.org/web/20220403100053/https://www.skillsoft.com/), n.d.."
   ]
  },
  {
   "cell_type": "markdown",
   "id": "b33c372a",
   "metadata": {},
   "source": [
    "***\n",
    "## END"
   ]
  },
  {
   "cell_type": "markdown",
   "id": "e5961b4d",
   "metadata": {},
   "source": [
    "< [Table of Contents](#top) | [References](#references) >\n",
    "<a id=\"appendix\"></a>\n",
    "***\n",
    "## Appendix\n",
    "***"
   ]
  },
  {
   "cell_type": "markdown",
   "id": "00d82a82",
   "metadata": {},
   "source": [
    "***\n",
    "## END"
   ]
  },
  {
   "cell_type": "code",
   "execution_count": 1,
   "id": "706756a2",
   "metadata": {},
   "outputs": [
    {
     "name": "stderr",
     "output_type": "stream",
     "text": [
      "C:\\Users\\SeanOhAileasa\\AppData\\Local\\Temp\\ipykernel_21788\\1322614208.py:1: DeprecationWarning: Importing display from IPython.core.display is deprecated since IPython 7.14, please import from IPython display\n",
      "  from IPython.core.display import display,HTML\n"
     ]
    },
    {
     "data": {
      "text/html": [
       "<style>.container { width:100% !important; }</style>"
      ],
      "text/plain": [
       "<IPython.core.display.HTML object>"
      ]
     },
     "metadata": {},
     "output_type": "display_data"
    }
   ],
   "source": [
    "from IPython.core.display import display,HTML\n",
    "display(HTML(\"<style>.container { width:100% !important; }</style>\"))"
   ]
  },
  {
   "cell_type": "markdown",
   "id": "899c1783",
   "metadata": {},
   "source": [
    "# END JUPYTER NOTEBOOK"
   ]
  }
 ],
 "metadata": {
  "kernelspec": {
   "display_name": "Python 3 (ipykernel)",
   "language": "python",
   "name": "python3"
  },
  "language_info": {
   "codemirror_mode": {
    "name": "ipython",
    "version": 3
   },
   "file_extension": ".py",
   "mimetype": "text/x-python",
   "name": "python",
   "nbconvert_exporter": "python",
   "pygments_lexer": "ipython3",
   "version": "3.9.12"
  }
 },
 "nbformat": 4,
 "nbformat_minor": 5
}
